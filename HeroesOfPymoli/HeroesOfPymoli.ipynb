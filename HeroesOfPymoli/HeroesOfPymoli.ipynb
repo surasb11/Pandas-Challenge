{
 "cells": [
  {
   "cell_type": "code",
   "execution_count": 1,
   "metadata": {},
   "outputs": [
    {
     "data": {
      "text/html": [
       "<div>\n",
       "<style scoped>\n",
       "    .dataframe tbody tr th:only-of-type {\n",
       "        vertical-align: middle;\n",
       "    }\n",
       "\n",
       "    .dataframe tbody tr th {\n",
       "        vertical-align: top;\n",
       "    }\n",
       "\n",
       "    .dataframe thead th {\n",
       "        text-align: right;\n",
       "    }\n",
       "</style>\n",
       "<table border=\"1\" class=\"dataframe\">\n",
       "  <thead>\n",
       "    <tr style=\"text-align: right;\">\n",
       "      <th></th>\n",
       "      <th>Purchase ID</th>\n",
       "      <th>SN</th>\n",
       "      <th>Age</th>\n",
       "      <th>Gender</th>\n",
       "      <th>Item ID</th>\n",
       "      <th>Item Name</th>\n",
       "      <th>Price</th>\n",
       "    </tr>\n",
       "  </thead>\n",
       "  <tbody>\n",
       "    <tr>\n",
       "      <td>0</td>\n",
       "      <td>0</td>\n",
       "      <td>Lisim78</td>\n",
       "      <td>20</td>\n",
       "      <td>Male</td>\n",
       "      <td>108</td>\n",
       "      <td>Extraction, Quickblade Of Trembling Hands</td>\n",
       "      <td>3.53</td>\n",
       "    </tr>\n",
       "    <tr>\n",
       "      <td>1</td>\n",
       "      <td>1</td>\n",
       "      <td>Lisovynya38</td>\n",
       "      <td>40</td>\n",
       "      <td>Male</td>\n",
       "      <td>143</td>\n",
       "      <td>Frenzied Scimitar</td>\n",
       "      <td>1.56</td>\n",
       "    </tr>\n",
       "    <tr>\n",
       "      <td>2</td>\n",
       "      <td>2</td>\n",
       "      <td>Ithergue48</td>\n",
       "      <td>24</td>\n",
       "      <td>Male</td>\n",
       "      <td>92</td>\n",
       "      <td>Final Critic</td>\n",
       "      <td>4.88</td>\n",
       "    </tr>\n",
       "    <tr>\n",
       "      <td>3</td>\n",
       "      <td>3</td>\n",
       "      <td>Chamassasya86</td>\n",
       "      <td>24</td>\n",
       "      <td>Male</td>\n",
       "      <td>100</td>\n",
       "      <td>Blindscythe</td>\n",
       "      <td>3.27</td>\n",
       "    </tr>\n",
       "    <tr>\n",
       "      <td>4</td>\n",
       "      <td>4</td>\n",
       "      <td>Iskosia90</td>\n",
       "      <td>23</td>\n",
       "      <td>Male</td>\n",
       "      <td>131</td>\n",
       "      <td>Fury</td>\n",
       "      <td>1.44</td>\n",
       "    </tr>\n",
       "  </tbody>\n",
       "</table>\n",
       "</div>"
      ],
      "text/plain": [
       "   Purchase ID             SN  Age Gender  Item ID  \\\n",
       "0            0        Lisim78   20   Male      108   \n",
       "1            1    Lisovynya38   40   Male      143   \n",
       "2            2     Ithergue48   24   Male       92   \n",
       "3            3  Chamassasya86   24   Male      100   \n",
       "4            4      Iskosia90   23   Male      131   \n",
       "\n",
       "                                   Item Name  Price  \n",
       "0  Extraction, Quickblade Of Trembling Hands   3.53  \n",
       "1                          Frenzied Scimitar   1.56  \n",
       "2                               Final Critic   4.88  \n",
       "3                                Blindscythe   3.27  \n",
       "4                                       Fury   1.44  "
      ]
     },
     "execution_count": 1,
     "metadata": {},
     "output_type": "execute_result"
    }
   ],
   "source": [
    "import pandas as pd\n",
    "\n",
    "#Raw file to load\n",
    "purchase_data = \"Resources/purchase_data.csv\"\n",
    "\n",
    "#Read CSV file - if your data has some punctuation add this code(encoding=\"utf-8\") to read the data\n",
    "purchase_data_pd = pd.read_csv(purchase_data, encoding=\"utf-8\")\n",
    "purchase_data_pd.head()"
   ]
  },
  {
   "cell_type": "markdown",
   "metadata": {},
   "source": [
    "## Player Count"
   ]
  },
  {
   "cell_type": "markdown",
   "metadata": {},
   "source": [
    "* Display the total number of players\n"
   ]
  },
  {
   "cell_type": "code",
   "execution_count": 2,
   "metadata": {},
   "outputs": [
    {
     "data": {
      "text/html": [
       "<div>\n",
       "<style scoped>\n",
       "    .dataframe tbody tr th:only-of-type {\n",
       "        vertical-align: middle;\n",
       "    }\n",
       "\n",
       "    .dataframe tbody tr th {\n",
       "        vertical-align: top;\n",
       "    }\n",
       "\n",
       "    .dataframe thead th {\n",
       "        text-align: right;\n",
       "    }\n",
       "</style>\n",
       "<table border=\"1\" class=\"dataframe\">\n",
       "  <thead>\n",
       "    <tr style=\"text-align: right;\">\n",
       "      <th></th>\n",
       "      <th>Total Players</th>\n",
       "    </tr>\n",
       "  </thead>\n",
       "  <tbody>\n",
       "    <tr>\n",
       "      <td>0</td>\n",
       "      <td>576</td>\n",
       "    </tr>\n",
       "  </tbody>\n",
       "</table>\n",
       "</div>"
      ],
      "text/plain": [
       "  Total Players\n",
       "0           576"
      ]
     },
     "execution_count": 2,
     "metadata": {},
     "output_type": "execute_result"
    }
   ],
   "source": [
    "data_df = pd.read_csv(purchase_data)\n",
    "\n",
    "#Create a data frame displaying the total number of players\n",
    "total_players = [{'Total Players': str(len(data_df['SN'].value_counts()))}]\n",
    "data_df = pd.DataFrame(total_players, index =['0'])\n",
    "data_df"
   ]
  },
  {
   "cell_type": "markdown",
   "metadata": {},
   "source": [
    "## Purchasing Analysis (Total)"
   ]
  },
  {
   "cell_type": "markdown",
   "metadata": {},
   "source": [
    "* Run basic calculations to obtain number of unique items, average price, etc.\n",
    "\n",
    "\n",
    "* Create a summary data frame to hold the results\n",
    "\n",
    "\n",
    "* Optional: give the displayed data cleaner formatting\n",
    "\n",
    "\n",
    "* Display the summary data frame\n"
   ]
  },
  {
   "cell_type": "code",
   "execution_count": 5,
   "metadata": {
    "scrolled": true
   },
   "outputs": [
    {
     "data": {
      "text/html": [
       "<div>\n",
       "<style scoped>\n",
       "    .dataframe tbody tr th:only-of-type {\n",
       "        vertical-align: middle;\n",
       "    }\n",
       "\n",
       "    .dataframe tbody tr th {\n",
       "        vertical-align: top;\n",
       "    }\n",
       "\n",
       "    .dataframe thead th {\n",
       "        text-align: right;\n",
       "    }\n",
       "</style>\n",
       "<table border=\"1\" class=\"dataframe\">\n",
       "  <thead>\n",
       "    <tr style=\"text-align: right;\">\n",
       "      <th></th>\n",
       "      <th>Number of Unique Items</th>\n",
       "      <th>Average Price</th>\n",
       "      <th>Number of Purchases</th>\n",
       "      <th>Total Revenue</th>\n",
       "    </tr>\n",
       "  </thead>\n",
       "  <tbody>\n",
       "    <tr>\n",
       "      <td>0</td>\n",
       "      <td>183</td>\n",
       "      <td>$3.05</td>\n",
       "      <td>780</td>\n",
       "      <td>$2,379.77</td>\n",
       "    </tr>\n",
       "  </tbody>\n",
       "</table>\n",
       "</div>"
      ],
      "text/plain": [
       "   Number of Unique Items Average Price  Number of Purchases Total Revenue\n",
       "0                     183         $3.05                  780     $2,379.77"
      ]
     },
     "execution_count": 5,
     "metadata": {},
     "output_type": "execute_result"
    }
   ],
   "source": [
    "#Create a summary data frame of unique items, average price, etc.\n",
    "\n",
    "groupby_gender_df = pd.read_csv(purchase_data, encoding=\"utf-8\")\n",
    "items_count = purchase_data_pd[\"Item ID\"].nunique()\n",
    "gender_df = groupby_gender_df.groupby([\"Gender\"])\n",
    "\n",
    "average_prices = purchase_data_pd[\"Price\"].mean()\n",
    "average_price = average_prices\n",
    "\n",
    "total_orders = purchase_data_pd[\"Purchase ID\"].count()\n",
    "\n",
    "total_revenue = average_prices * total_orders\n",
    "\n",
    "#Display the summary data frame\n",
    "summary_result = pd.DataFrame({\"Number of Unique Items\":[items_count],\n",
    "                              \"Average Price\": [average_price],\n",
    "                              \"Number of Purchases\": [total_orders],\n",
    "                               \"Total Revenue\": [total_revenue]})\n",
    "\n",
    "summary_result[\"Total Revenue\"] = summary_result[\"Total Revenue\"].astype(float).map(\"${:,.2f}\".format)\n",
    "summary_result[\"Average Price\"] = summary_result[\"Average Price\"].astype(float).map(\"${:.2f}\".format)\n",
    "\n",
    "summary_result"
   ]
  },
  {
   "cell_type": "markdown",
   "metadata": {},
   "source": [
    "## Gender Demographics"
   ]
  },
  {
   "cell_type": "markdown",
   "metadata": {},
   "source": [
    "* Percentage and Count of Male Players\n",
    "\n",
    "\n",
    "* Percentage and Count of Female Players\n",
    "\n",
    "\n",
    "* Percentage and Count of Other / Non-Disclosed\n",
    "\n",
    "\n"
   ]
  },
  {
   "cell_type": "code",
   "execution_count": 6,
   "metadata": {},
   "outputs": [
    {
     "data": {
      "text/html": [
       "<style  type=\"text/css\" >\n",
       "</style><table id=\"T_4897b800_7ac4_11ea_b832_086d41dd6a90\" ><thead>    <tr>        <th class=\"blank level0\" ></th>        <th class=\"col_heading level0 col0\" >Total Count</th>        <th class=\"col_heading level0 col1\" >Percentage of Players</th>    </tr></thead><tbody>\n",
       "                <tr>\n",
       "                        <th id=\"T_4897b800_7ac4_11ea_b832_086d41dd6a90level0_row0\" class=\"row_heading level0 row0\" >Male</th>\n",
       "                        <td id=\"T_4897b800_7ac4_11ea_b832_086d41dd6a90row0_col0\" class=\"data row0 col0\" >652</td>\n",
       "                        <td id=\"T_4897b800_7ac4_11ea_b832_086d41dd6a90row0_col1\" class=\"data row0 col1\" >83.59%</td>\n",
       "            </tr>\n",
       "            <tr>\n",
       "                        <th id=\"T_4897b800_7ac4_11ea_b832_086d41dd6a90level0_row1\" class=\"row_heading level0 row1\" >Female</th>\n",
       "                        <td id=\"T_4897b800_7ac4_11ea_b832_086d41dd6a90row1_col0\" class=\"data row1 col0\" >113</td>\n",
       "                        <td id=\"T_4897b800_7ac4_11ea_b832_086d41dd6a90row1_col1\" class=\"data row1 col1\" >14.49%</td>\n",
       "            </tr>\n",
       "            <tr>\n",
       "                        <th id=\"T_4897b800_7ac4_11ea_b832_086d41dd6a90level0_row2\" class=\"row_heading level0 row2\" >Other / Non-Disclosed</th>\n",
       "                        <td id=\"T_4897b800_7ac4_11ea_b832_086d41dd6a90row2_col0\" class=\"data row2 col0\" >15</td>\n",
       "                        <td id=\"T_4897b800_7ac4_11ea_b832_086d41dd6a90row2_col1\" class=\"data row2 col1\" >1.92%</td>\n",
       "            </tr>\n",
       "    </tbody></table>"
      ],
      "text/plain": [
       "<pandas.io.formats.style.Styler at 0x11afdfb50>"
      ]
     },
     "execution_count": 6,
     "metadata": {},
     "output_type": "execute_result"
    }
   ],
   "source": [
    "# Group purchase_data by Gender\n",
    "index = [\"Male\", \"Female\", \"Other / Non-Disclosed\"]\n",
    "groupby_df = pd.DataFrame({\"Total Count\" : groupby_gender_df[\"Gender\"].value_counts(),\n",
    "                               \"Percentage of Players\" : (groupby_gender_df[\"Gender\"].value_counts()/groupby_gender_df[\"Gender\"].count())/1})\n",
    "\n",
    "# Format with currency style\n",
    "groupby_df[\"Percentage of Players\"] = groupby_df[\"Percentage of Players\"].astype(float).map(\"{:.2%}\".format)\n",
    "\n",
    "groupby_df.style"
   ]
  },
  {
   "cell_type": "markdown",
   "metadata": {},
   "source": [
    "\n",
    "## Purchasing Analysis (Gender)"
   ]
  },
  {
   "cell_type": "markdown",
   "metadata": {},
   "source": [
    "* Run basic calculations to obtain purchase count, avg. purchase price, avg. purchase total per person etc. by gender\n",
    "\n",
    "\n",
    "\n",
    "\n",
    "* Create a summary data frame to hold the results\n",
    "\n",
    "\n",
    "* Optional: give the displayed data cleaner formatting\n",
    "\n",
    "\n",
    "* Display the summary data frame"
   ]
  },
  {
   "cell_type": "code",
   "execution_count": 7,
   "metadata": {},
   "outputs": [
    {
     "data": {
      "text/html": [
       "<style  type=\"text/css\" >\n",
       "</style><table id=\"T_4bdef99c_7ac4_11ea_b832_086d41dd6a90\" ><thead>    <tr>        <th class=\"blank level0\" ></th>        <th class=\"col_heading level0 col0\" >Purchase Count</th>        <th class=\"col_heading level0 col1\" >Average Purchase Price</th>        <th class=\"col_heading level0 col2\" >Total Purchase Value</th>        <th class=\"col_heading level0 col3\" >Avg Total Purchase per Person</th>    </tr>    <tr>        <th class=\"index_name level0\" >Gender</th>        <th class=\"blank\" ></th>        <th class=\"blank\" ></th>        <th class=\"blank\" ></th>        <th class=\"blank\" ></th>    </tr></thead><tbody>\n",
       "                <tr>\n",
       "                        <th id=\"T_4bdef99c_7ac4_11ea_b832_086d41dd6a90level0_row0\" class=\"row_heading level0 row0\" >Female</th>\n",
       "                        <td id=\"T_4bdef99c_7ac4_11ea_b832_086d41dd6a90row0_col0\" class=\"data row0 col0\" >113</td>\n",
       "                        <td id=\"T_4bdef99c_7ac4_11ea_b832_086d41dd6a90row0_col1\" class=\"data row0 col1\" >$3.20</td>\n",
       "                        <td id=\"T_4bdef99c_7ac4_11ea_b832_086d41dd6a90row0_col2\" class=\"data row0 col2\" >$361.94</td>\n",
       "                        <td id=\"T_4bdef99c_7ac4_11ea_b832_086d41dd6a90row0_col3\" class=\"data row0 col3\" >$4.47</td>\n",
       "            </tr>\n",
       "            <tr>\n",
       "                        <th id=\"T_4bdef99c_7ac4_11ea_b832_086d41dd6a90level0_row1\" class=\"row_heading level0 row1\" >Male</th>\n",
       "                        <td id=\"T_4bdef99c_7ac4_11ea_b832_086d41dd6a90row1_col0\" class=\"data row1 col0\" >652</td>\n",
       "                        <td id=\"T_4bdef99c_7ac4_11ea_b832_086d41dd6a90row1_col1\" class=\"data row1 col1\" >$3.02</td>\n",
       "                        <td id=\"T_4bdef99c_7ac4_11ea_b832_086d41dd6a90row1_col2\" class=\"data row1 col2\" >$1,967.64</td>\n",
       "                        <td id=\"T_4bdef99c_7ac4_11ea_b832_086d41dd6a90row1_col3\" class=\"data row1 col3\" >$4.07</td>\n",
       "            </tr>\n",
       "            <tr>\n",
       "                        <th id=\"T_4bdef99c_7ac4_11ea_b832_086d41dd6a90level0_row2\" class=\"row_heading level0 row2\" >Other / Non-Disclosed</th>\n",
       "                        <td id=\"T_4bdef99c_7ac4_11ea_b832_086d41dd6a90row2_col0\" class=\"data row2 col0\" >15</td>\n",
       "                        <td id=\"T_4bdef99c_7ac4_11ea_b832_086d41dd6a90row2_col1\" class=\"data row2 col1\" >$3.35</td>\n",
       "                        <td id=\"T_4bdef99c_7ac4_11ea_b832_086d41dd6a90row2_col2\" class=\"data row2 col2\" >$50.19</td>\n",
       "                        <td id=\"T_4bdef99c_7ac4_11ea_b832_086d41dd6a90row2_col3\" class=\"data row2 col3\" >$4.56</td>\n",
       "            </tr>\n",
       "    </tbody></table>"
      ],
      "text/plain": [
       "<pandas.io.formats.style.Styler at 0x11b0546d0>"
      ]
     },
     "execution_count": 7,
     "metadata": {},
     "output_type": "execute_result"
    }
   ],
   "source": [
    "total_gender = gender_df.nunique()[\"SN\"]\n",
    "purchase_count = groupby_gender_df[\"Gender\"].value_counts()\n",
    "\n",
    "avg_price = gender_df[\"Price\"].mean()\n",
    "\n",
    "total_value = avg_price * purchase_count\n",
    "average_purch = total_value / total_gender\n",
    "\n",
    "purchasing_analysis_df = pd.DataFrame({\"Purchase Count\": purchase_count,\n",
    "                                       \"Average Purchase Price\": avg_price,\n",
    "                                       \"Total Purchase Value\": total_value,\n",
    "                                       \"Avg Total Purchase per Person\": average_purch})\n",
    "\n",
    "purchasing_analysis_df.index.name = \"Gender\"\n",
    "index = [\"Male\", \"Female\", \"Other / Non-Disclosed\"]\n",
    "purchasing_analysis_df.style.format({\"Total Purchase Value\":\"${:,.2f}\",\n",
    "                                     \"Average Purchase Price\":\"${:,.2f}\",\n",
    "                                     \"Avg Total Purchase per Person\":\"${:,.2f}\"})"
   ]
  },
  {
   "cell_type": "markdown",
   "metadata": {},
   "source": [
    "## Age Demographics"
   ]
  },
  {
   "cell_type": "markdown",
   "metadata": {},
   "source": [
    "* Establish bins for ages\n",
    "\n",
    "\n",
    "* Categorize the existing players using the age bins. Hint: use pd.cut()\n",
    "\n",
    "\n",
    "* Calculate the numbers and percentages by age group\n",
    "\n",
    "\n",
    "* Create a summary data frame to hold the results\n",
    "\n",
    "\n",
    "* Optional: round the percentage column to two decimal points\n",
    "\n",
    "\n",
    "* Display Age Demographics Table\n"
   ]
  },
  {
   "cell_type": "code",
   "execution_count": 8,
   "metadata": {},
   "outputs": [
    {
     "data": {
      "text/html": [
       "<style  type=\"text/css\" >\n",
       "</style><table id=\"T_4d95d814_7ac4_11ea_b832_086d41dd6a90\" ><thead>    <tr>        <th class=\"blank level0\" ></th>        <th class=\"col_heading level0 col0\" >Total Count</th>        <th class=\"col_heading level0 col1\" >Percentage of Players</th>    </tr></thead><tbody>\n",
       "                <tr>\n",
       "                        <th id=\"T_4d95d814_7ac4_11ea_b832_086d41dd6a90level0_row0\" class=\"row_heading level0 row0\" ><10</th>\n",
       "                        <td id=\"T_4d95d814_7ac4_11ea_b832_086d41dd6a90row0_col0\" class=\"data row0 col0\" >17</td>\n",
       "                        <td id=\"T_4d95d814_7ac4_11ea_b832_086d41dd6a90row0_col1\" class=\"data row0 col1\" >2.95%</td>\n",
       "            </tr>\n",
       "            <tr>\n",
       "                        <th id=\"T_4d95d814_7ac4_11ea_b832_086d41dd6a90level0_row1\" class=\"row_heading level0 row1\" >10-14</th>\n",
       "                        <td id=\"T_4d95d814_7ac4_11ea_b832_086d41dd6a90row1_col0\" class=\"data row1 col0\" >22</td>\n",
       "                        <td id=\"T_4d95d814_7ac4_11ea_b832_086d41dd6a90row1_col1\" class=\"data row1 col1\" >3.82%</td>\n",
       "            </tr>\n",
       "            <tr>\n",
       "                        <th id=\"T_4d95d814_7ac4_11ea_b832_086d41dd6a90level0_row2\" class=\"row_heading level0 row2\" >15-19</th>\n",
       "                        <td id=\"T_4d95d814_7ac4_11ea_b832_086d41dd6a90row2_col0\" class=\"data row2 col0\" >107</td>\n",
       "                        <td id=\"T_4d95d814_7ac4_11ea_b832_086d41dd6a90row2_col1\" class=\"data row2 col1\" >18.58%</td>\n",
       "            </tr>\n",
       "            <tr>\n",
       "                        <th id=\"T_4d95d814_7ac4_11ea_b832_086d41dd6a90level0_row3\" class=\"row_heading level0 row3\" >20-24</th>\n",
       "                        <td id=\"T_4d95d814_7ac4_11ea_b832_086d41dd6a90row3_col0\" class=\"data row3 col0\" >258</td>\n",
       "                        <td id=\"T_4d95d814_7ac4_11ea_b832_086d41dd6a90row3_col1\" class=\"data row3 col1\" >44.79%</td>\n",
       "            </tr>\n",
       "            <tr>\n",
       "                        <th id=\"T_4d95d814_7ac4_11ea_b832_086d41dd6a90level0_row4\" class=\"row_heading level0 row4\" >25-29</th>\n",
       "                        <td id=\"T_4d95d814_7ac4_11ea_b832_086d41dd6a90row4_col0\" class=\"data row4 col0\" >77</td>\n",
       "                        <td id=\"T_4d95d814_7ac4_11ea_b832_086d41dd6a90row4_col1\" class=\"data row4 col1\" >13.37%</td>\n",
       "            </tr>\n",
       "            <tr>\n",
       "                        <th id=\"T_4d95d814_7ac4_11ea_b832_086d41dd6a90level0_row5\" class=\"row_heading level0 row5\" >30-34</th>\n",
       "                        <td id=\"T_4d95d814_7ac4_11ea_b832_086d41dd6a90row5_col0\" class=\"data row5 col0\" >52</td>\n",
       "                        <td id=\"T_4d95d814_7ac4_11ea_b832_086d41dd6a90row5_col1\" class=\"data row5 col1\" >9.03%</td>\n",
       "            </tr>\n",
       "            <tr>\n",
       "                        <th id=\"T_4d95d814_7ac4_11ea_b832_086d41dd6a90level0_row6\" class=\"row_heading level0 row6\" >35-39</th>\n",
       "                        <td id=\"T_4d95d814_7ac4_11ea_b832_086d41dd6a90row6_col0\" class=\"data row6 col0\" >31</td>\n",
       "                        <td id=\"T_4d95d814_7ac4_11ea_b832_086d41dd6a90row6_col1\" class=\"data row6 col1\" >5.38%</td>\n",
       "            </tr>\n",
       "            <tr>\n",
       "                        <th id=\"T_4d95d814_7ac4_11ea_b832_086d41dd6a90level0_row7\" class=\"row_heading level0 row7\" >40+</th>\n",
       "                        <td id=\"T_4d95d814_7ac4_11ea_b832_086d41dd6a90row7_col0\" class=\"data row7 col0\" >12</td>\n",
       "                        <td id=\"T_4d95d814_7ac4_11ea_b832_086d41dd6a90row7_col1\" class=\"data row7 col1\" >2.08%</td>\n",
       "            </tr>\n",
       "    </tbody></table>"
      ],
      "text/plain": [
       "<pandas.io.formats.style.Styler at 0x10a90e050>"
      ]
     },
     "execution_count": 8,
     "metadata": {},
     "output_type": "execute_result"
    }
   ],
   "source": [
    "data_pd = pd.read_csv(purchase_data)\n",
    "\n",
    "# Establish bins for ages\n",
    "age_bins = [0, 9.90, 14.90, 19.90, 24.90, 29.90, 34.90, 39.90, 99999]\n",
    "age_ranger = [\"<10\", \"10-14\", \"15-19\", \"20-24\", \"25-29\", \"30-34\", \"35-39\", \"40+\"]\n",
    "\n",
    "data_pd[\"AgeG\"] = pd.cut(data_pd[\"Age\"],age_bins, labels=age_ranger)\n",
    "\n",
    "group_age = data_pd.groupby(\"AgeG\")\n",
    "total_age = group_age[\"SN\"].nunique()\n",
    "\n",
    "total_player = len(data_pd[\"SN\"].value_counts())\n",
    "\n",
    "# Calculate percentages by age category \n",
    "percent_by_age = (total_age / total_player) * 100\n",
    "\n",
    "age_demographics = pd.DataFrame({\"Total Count\": total_age,\n",
    "                                \"Percentage of Players\": percent_by_age})\n",
    "\n",
    "# Format the data frame with no index name in the corner\n",
    "age_demographics.index.name = None\n",
    "\n",
    "# Format percentage with two decimal places \n",
    "age_demographics.style.format({\"Percentage of Players\":\"{:,.2f}%\"})"
   ]
  },
  {
   "cell_type": "markdown",
   "metadata": {},
   "source": [
    "## Purchasing Analysis (Age)"
   ]
  },
  {
   "cell_type": "markdown",
   "metadata": {},
   "source": [
    "* Bin the purchase_data data frame by age\n",
    "\n",
    "\n",
    "* Run basic calculations to obtain purchase count, avg. purchase price, avg. purchase total per person etc. in the table below\n",
    "\n",
    "\n",
    "* Create a summary data frame to hold the results\n",
    "\n",
    "\n",
    "* Optional: give the displayed data cleaner formatting\n",
    "\n",
    "\n",
    "* Display the summary data frame"
   ]
  },
  {
   "cell_type": "code",
   "execution_count": 9,
   "metadata": {},
   "outputs": [
    {
     "data": {
      "text/html": [
       "<style  type=\"text/css\" >\n",
       "</style><table id=\"T_4f06889c_7ac4_11ea_b832_086d41dd6a90\" ><thead>    <tr>        <th class=\"blank level0\" ></th>        <th class=\"col_heading level0 col0\" >Purchase Counts</th>        <th class=\"col_heading level0 col1\" >Average Purchase Price</th>        <th class=\"col_heading level0 col2\" >Total Purchase Value</th>        <th class=\"col_heading level0 col3\" >Avg Total Purchase per Person</th>    </tr>    <tr>        <th class=\"index_name level0\" >Age Ranges</th>        <th class=\"blank\" ></th>        <th class=\"blank\" ></th>        <th class=\"blank\" ></th>        <th class=\"blank\" ></th>    </tr></thead><tbody>\n",
       "                <tr>\n",
       "                        <th id=\"T_4f06889c_7ac4_11ea_b832_086d41dd6a90level0_row0\" class=\"row_heading level0 row0\" ><10</th>\n",
       "                        <td id=\"T_4f06889c_7ac4_11ea_b832_086d41dd6a90row0_col0\" class=\"data row0 col0\" >23</td>\n",
       "                        <td id=\"T_4f06889c_7ac4_11ea_b832_086d41dd6a90row0_col1\" class=\"data row0 col1\" >$3.35</td>\n",
       "                        <td id=\"T_4f06889c_7ac4_11ea_b832_086d41dd6a90row0_col2\" class=\"data row0 col2\" >$77.13</td>\n",
       "                        <td id=\"T_4f06889c_7ac4_11ea_b832_086d41dd6a90row0_col3\" class=\"data row0 col3\" >$4.54</td>\n",
       "            </tr>\n",
       "            <tr>\n",
       "                        <th id=\"T_4f06889c_7ac4_11ea_b832_086d41dd6a90level0_row1\" class=\"row_heading level0 row1\" >10-14</th>\n",
       "                        <td id=\"T_4f06889c_7ac4_11ea_b832_086d41dd6a90row1_col0\" class=\"data row1 col0\" >28</td>\n",
       "                        <td id=\"T_4f06889c_7ac4_11ea_b832_086d41dd6a90row1_col1\" class=\"data row1 col1\" >$2.96</td>\n",
       "                        <td id=\"T_4f06889c_7ac4_11ea_b832_086d41dd6a90row1_col2\" class=\"data row1 col2\" >$82.78</td>\n",
       "                        <td id=\"T_4f06889c_7ac4_11ea_b832_086d41dd6a90row1_col3\" class=\"data row1 col3\" >$3.76</td>\n",
       "            </tr>\n",
       "            <tr>\n",
       "                        <th id=\"T_4f06889c_7ac4_11ea_b832_086d41dd6a90level0_row2\" class=\"row_heading level0 row2\" >15-19</th>\n",
       "                        <td id=\"T_4f06889c_7ac4_11ea_b832_086d41dd6a90row2_col0\" class=\"data row2 col0\" >136</td>\n",
       "                        <td id=\"T_4f06889c_7ac4_11ea_b832_086d41dd6a90row2_col1\" class=\"data row2 col1\" >$3.04</td>\n",
       "                        <td id=\"T_4f06889c_7ac4_11ea_b832_086d41dd6a90row2_col2\" class=\"data row2 col2\" >$412.89</td>\n",
       "                        <td id=\"T_4f06889c_7ac4_11ea_b832_086d41dd6a90row2_col3\" class=\"data row2 col3\" >$3.86</td>\n",
       "            </tr>\n",
       "            <tr>\n",
       "                        <th id=\"T_4f06889c_7ac4_11ea_b832_086d41dd6a90level0_row3\" class=\"row_heading level0 row3\" >20-24</th>\n",
       "                        <td id=\"T_4f06889c_7ac4_11ea_b832_086d41dd6a90row3_col0\" class=\"data row3 col0\" >365</td>\n",
       "                        <td id=\"T_4f06889c_7ac4_11ea_b832_086d41dd6a90row3_col1\" class=\"data row3 col1\" >$3.05</td>\n",
       "                        <td id=\"T_4f06889c_7ac4_11ea_b832_086d41dd6a90row3_col2\" class=\"data row3 col2\" >$1,114.06</td>\n",
       "                        <td id=\"T_4f06889c_7ac4_11ea_b832_086d41dd6a90row3_col3\" class=\"data row3 col3\" >$4.32</td>\n",
       "            </tr>\n",
       "            <tr>\n",
       "                        <th id=\"T_4f06889c_7ac4_11ea_b832_086d41dd6a90level0_row4\" class=\"row_heading level0 row4\" >25-29</th>\n",
       "                        <td id=\"T_4f06889c_7ac4_11ea_b832_086d41dd6a90row4_col0\" class=\"data row4 col0\" >101</td>\n",
       "                        <td id=\"T_4f06889c_7ac4_11ea_b832_086d41dd6a90row4_col1\" class=\"data row4 col1\" >$2.90</td>\n",
       "                        <td id=\"T_4f06889c_7ac4_11ea_b832_086d41dd6a90row4_col2\" class=\"data row4 col2\" >$293.00</td>\n",
       "                        <td id=\"T_4f06889c_7ac4_11ea_b832_086d41dd6a90row4_col3\" class=\"data row4 col3\" >$3.81</td>\n",
       "            </tr>\n",
       "            <tr>\n",
       "                        <th id=\"T_4f06889c_7ac4_11ea_b832_086d41dd6a90level0_row5\" class=\"row_heading level0 row5\" >30-34</th>\n",
       "                        <td id=\"T_4f06889c_7ac4_11ea_b832_086d41dd6a90row5_col0\" class=\"data row5 col0\" >73</td>\n",
       "                        <td id=\"T_4f06889c_7ac4_11ea_b832_086d41dd6a90row5_col1\" class=\"data row5 col1\" >$2.93</td>\n",
       "                        <td id=\"T_4f06889c_7ac4_11ea_b832_086d41dd6a90row5_col2\" class=\"data row5 col2\" >$214.00</td>\n",
       "                        <td id=\"T_4f06889c_7ac4_11ea_b832_086d41dd6a90row5_col3\" class=\"data row5 col3\" >$4.12</td>\n",
       "            </tr>\n",
       "            <tr>\n",
       "                        <th id=\"T_4f06889c_7ac4_11ea_b832_086d41dd6a90level0_row6\" class=\"row_heading level0 row6\" >35-39</th>\n",
       "                        <td id=\"T_4f06889c_7ac4_11ea_b832_086d41dd6a90row6_col0\" class=\"data row6 col0\" >41</td>\n",
       "                        <td id=\"T_4f06889c_7ac4_11ea_b832_086d41dd6a90row6_col1\" class=\"data row6 col1\" >$3.60</td>\n",
       "                        <td id=\"T_4f06889c_7ac4_11ea_b832_086d41dd6a90row6_col2\" class=\"data row6 col2\" >$147.67</td>\n",
       "                        <td id=\"T_4f06889c_7ac4_11ea_b832_086d41dd6a90row6_col3\" class=\"data row6 col3\" >$4.76</td>\n",
       "            </tr>\n",
       "            <tr>\n",
       "                        <th id=\"T_4f06889c_7ac4_11ea_b832_086d41dd6a90level0_row7\" class=\"row_heading level0 row7\" >40+</th>\n",
       "                        <td id=\"T_4f06889c_7ac4_11ea_b832_086d41dd6a90row7_col0\" class=\"data row7 col0\" >13</td>\n",
       "                        <td id=\"T_4f06889c_7ac4_11ea_b832_086d41dd6a90row7_col1\" class=\"data row7 col1\" >$2.94</td>\n",
       "                        <td id=\"T_4f06889c_7ac4_11ea_b832_086d41dd6a90row7_col2\" class=\"data row7 col2\" >$38.24</td>\n",
       "                        <td id=\"T_4f06889c_7ac4_11ea_b832_086d41dd6a90row7_col3\" class=\"data row7 col3\" >$3.19</td>\n",
       "            </tr>\n",
       "    </tbody></table>"
      ],
      "text/plain": [
       "<pandas.io.formats.style.Styler at 0x11b9df3d0>"
      ]
     },
     "execution_count": 9,
     "metadata": {},
     "output_type": "execute_result"
    }
   ],
   "source": [
    "purchase_age = group_age[\"Purchase ID\"].count()\n",
    "avg_pur_price = group_age[\"Price\"].mean()\n",
    "avg_purch_price = avg_pur_price.round(2)\n",
    "\n",
    "purch_value = group_age[\"Price\"].sum()\n",
    "total_per_persons = purch_value/total_age\n",
    "total_per_person = total_per_persons.round(2)\n",
    "\n",
    "age_analysis= pd.DataFrame({\"Purchase Counts\": purchase_age,\n",
    "                            \"Average Purchase Price\": avg_purch_price,\n",
    "                            \"Total Purchase Value\": purch_value,\n",
    "                            \"Avg Total Purchase per Person\": total_per_person})\n",
    "\n",
    "age_analysis[\"Average Purchase Price\"] = age_analysis[\"Average Purchase Price\"].astype(float).map(\"${:,.2f}\".format)\n",
    "age_analysis[\"Total Purchase Value\"] = age_analysis[\"Total Purchase Value\"].astype(float).map(\"${:,.2f}\".format)\n",
    "age_analysis[\"Avg Total Purchase per Person\"] = age_analysis[\"Avg Total Purchase per Person\"].astype(float).map(\"${:,.2f}\".format)\n",
    "\n",
    "age_analysis.index.name = \"Age Ranges\"\n",
    "age_analysis.style"
   ]
  },
  {
   "cell_type": "markdown",
   "metadata": {},
   "source": [
    "## Top Spenders"
   ]
  },
  {
   "cell_type": "markdown",
   "metadata": {},
   "source": [
    "* Run basic calculations to obtain the results in the table below\n",
    "\n",
    "\n",
    "* Create a summary data frame to hold the results\n",
    "\n",
    "\n",
    "* Sort the total purchase value column in descending order\n",
    "\n",
    "\n",
    "* Optional: give the displayed data cleaner formatting\n",
    "\n",
    "\n",
    "* Display a preview of the summary data frame\n",
    "\n"
   ]
  },
  {
   "cell_type": "code",
   "execution_count": 10,
   "metadata": {},
   "outputs": [
    {
     "data": {
      "text/html": [
       "<style  type=\"text/css\" >\n",
       "</style><table id=\"T_50523afc_7ac4_11ea_b832_086d41dd6a90\" ><thead>    <tr>        <th class=\"blank level0\" ></th>        <th class=\"col_heading level0 col0\" >Purchase Count</th>        <th class=\"col_heading level0 col1\" >Average Purchase Price</th>        <th class=\"col_heading level0 col2\" >Total Purchase Value</th>    </tr>    <tr>        <th class=\"index_name level0\" >SN</th>        <th class=\"blank\" ></th>        <th class=\"blank\" ></th>        <th class=\"blank\" ></th>    </tr></thead><tbody>\n",
       "                <tr>\n",
       "                        <th id=\"T_50523afc_7ac4_11ea_b832_086d41dd6a90level0_row0\" class=\"row_heading level0 row0\" >Lisosia93</th>\n",
       "                        <td id=\"T_50523afc_7ac4_11ea_b832_086d41dd6a90row0_col0\" class=\"data row0 col0\" >5</td>\n",
       "                        <td id=\"T_50523afc_7ac4_11ea_b832_086d41dd6a90row0_col1\" class=\"data row0 col1\" >$3.79</td>\n",
       "                        <td id=\"T_50523afc_7ac4_11ea_b832_086d41dd6a90row0_col2\" class=\"data row0 col2\" >$18.96</td>\n",
       "            </tr>\n",
       "            <tr>\n",
       "                        <th id=\"T_50523afc_7ac4_11ea_b832_086d41dd6a90level0_row1\" class=\"row_heading level0 row1\" >Idastidru52</th>\n",
       "                        <td id=\"T_50523afc_7ac4_11ea_b832_086d41dd6a90row1_col0\" class=\"data row1 col0\" >4</td>\n",
       "                        <td id=\"T_50523afc_7ac4_11ea_b832_086d41dd6a90row1_col1\" class=\"data row1 col1\" >$3.86</td>\n",
       "                        <td id=\"T_50523afc_7ac4_11ea_b832_086d41dd6a90row1_col2\" class=\"data row1 col2\" >$15.45</td>\n",
       "            </tr>\n",
       "            <tr>\n",
       "                        <th id=\"T_50523afc_7ac4_11ea_b832_086d41dd6a90level0_row2\" class=\"row_heading level0 row2\" >Chamjask73</th>\n",
       "                        <td id=\"T_50523afc_7ac4_11ea_b832_086d41dd6a90row2_col0\" class=\"data row2 col0\" >3</td>\n",
       "                        <td id=\"T_50523afc_7ac4_11ea_b832_086d41dd6a90row2_col1\" class=\"data row2 col1\" >$4.61</td>\n",
       "                        <td id=\"T_50523afc_7ac4_11ea_b832_086d41dd6a90row2_col2\" class=\"data row2 col2\" >$13.83</td>\n",
       "            </tr>\n",
       "            <tr>\n",
       "                        <th id=\"T_50523afc_7ac4_11ea_b832_086d41dd6a90level0_row3\" class=\"row_heading level0 row3\" >Iral74</th>\n",
       "                        <td id=\"T_50523afc_7ac4_11ea_b832_086d41dd6a90row3_col0\" class=\"data row3 col0\" >4</td>\n",
       "                        <td id=\"T_50523afc_7ac4_11ea_b832_086d41dd6a90row3_col1\" class=\"data row3 col1\" >$3.40</td>\n",
       "                        <td id=\"T_50523afc_7ac4_11ea_b832_086d41dd6a90row3_col2\" class=\"data row3 col2\" >$13.62</td>\n",
       "            </tr>\n",
       "            <tr>\n",
       "                        <th id=\"T_50523afc_7ac4_11ea_b832_086d41dd6a90level0_row4\" class=\"row_heading level0 row4\" >Iskadarya95</th>\n",
       "                        <td id=\"T_50523afc_7ac4_11ea_b832_086d41dd6a90row4_col0\" class=\"data row4 col0\" >3</td>\n",
       "                        <td id=\"T_50523afc_7ac4_11ea_b832_086d41dd6a90row4_col1\" class=\"data row4 col1\" >$4.37</td>\n",
       "                        <td id=\"T_50523afc_7ac4_11ea_b832_086d41dd6a90row4_col2\" class=\"data row4 col2\" >$13.10</td>\n",
       "            </tr>\n",
       "    </tbody></table>"
      ],
      "text/plain": [
       "<pandas.io.formats.style.Styler at 0x11bd32dd0>"
      ]
     },
     "execution_count": 10,
     "metadata": {},
     "output_type": "execute_result"
    }
   ],
   "source": [
    "top_spenders = pd.read_csv(purchase_data)\n",
    "screen_name = top_spenders.groupby(\"SN\")\n",
    "\n",
    "pur_count = screen_name[\"Purchase ID\"].nunique()\n",
    "pur_price = screen_name[\"Price\"].mean()\n",
    "purchase_price = pur_price.round(2)\n",
    "purchase_value = screen_name[\"Price\"].sum()\n",
    "\n",
    "spenders_name = pd.DataFrame({\"Purchase Count\" : pur_count,\n",
    "                              \"Average Purchase Price\" : purchase_price,\n",
    "                             \"Total Purchase Value\" : purchase_value,})\n",
    "\n",
    "spenders_name = spenders_name.sort_values(\"Total Purchase Value\", ascending=False).head()\n",
    "spenders_name[\"Average Purchase Price\"] = spenders_name[\"Average Purchase Price\"].astype(float).map(\"${:,.2f}\".format)\n",
    "spenders_name[\"Total Purchase Value\"] = spenders_name[\"Total Purchase Value\"].astype(float).map(\"${:,.2f}\".format)\n",
    "\n",
    "spenders_name.index.name = \"SN\"\n",
    "spenders_name.style"
   ]
  },
  {
   "cell_type": "markdown",
   "metadata": {},
   "source": [
    "## Most Popular Items"
   ]
  },
  {
   "cell_type": "markdown",
   "metadata": {},
   "source": [
    "* Retrieve the Item ID, Item Name, and Item Price columns\n",
    "\n",
    "\n",
    "* Group by Item ID and Item Name. Perform calculations to obtain purchase count, item price, and total purchase value\n",
    "\n",
    "\n",
    "* Create a summary data frame to hold the results\n",
    "\n",
    "\n",
    "* Sort the purchase count column in descending order\n",
    "\n",
    "\n",
    "* Optional: give the displayed data cleaner formatting\n",
    "\n",
    "\n",
    "* Display a preview of the summary data frame\n",
    "\n"
   ]
  },
  {
   "cell_type": "code",
   "execution_count": 11,
   "metadata": {},
   "outputs": [
    {
     "data": {
      "text/html": [
       "<style  type=\"text/css\" >\n",
       "</style><table id=\"T_5130d834_7ac4_11ea_b832_086d41dd6a90\" ><thead>    <tr>        <th class=\"blank\" ></th>        <th class=\"blank level0\" ></th>        <th class=\"col_heading level0 col0\" >Purchase Count</th>        <th class=\"col_heading level0 col1\" >Item Price</th>        <th class=\"col_heading level0 col2\" >Total Purchase Value</th>    </tr>    <tr>        <th class=\"index_name level0\" >Item ID</th>        <th class=\"index_name level1\" >Item Name</th>        <th class=\"blank\" ></th>        <th class=\"blank\" ></th>        <th class=\"blank\" ></th>    </tr></thead><tbody>\n",
       "                <tr>\n",
       "                        <th id=\"T_5130d834_7ac4_11ea_b832_086d41dd6a90level0_row0\" class=\"row_heading level0 row0\" >178</th>\n",
       "                        <th id=\"T_5130d834_7ac4_11ea_b832_086d41dd6a90level1_row0\" class=\"row_heading level1 row0\" >Oathbreaker, Last Hope of the Breaking Storm</th>\n",
       "                        <td id=\"T_5130d834_7ac4_11ea_b832_086d41dd6a90row0_col0\" class=\"data row0 col0\" >12</td>\n",
       "                        <td id=\"T_5130d834_7ac4_11ea_b832_086d41dd6a90row0_col1\" class=\"data row0 col1\" >$4.23</td>\n",
       "                        <td id=\"T_5130d834_7ac4_11ea_b832_086d41dd6a90row0_col2\" class=\"data row0 col2\" >$50.76</td>\n",
       "            </tr>\n",
       "            <tr>\n",
       "                        <th id=\"T_5130d834_7ac4_11ea_b832_086d41dd6a90level0_row1\" class=\"row_heading level0 row1\" >145</th>\n",
       "                        <th id=\"T_5130d834_7ac4_11ea_b832_086d41dd6a90level1_row1\" class=\"row_heading level1 row1\" >Fiery Glass Crusader</th>\n",
       "                        <td id=\"T_5130d834_7ac4_11ea_b832_086d41dd6a90row1_col0\" class=\"data row1 col0\" >9</td>\n",
       "                        <td id=\"T_5130d834_7ac4_11ea_b832_086d41dd6a90row1_col1\" class=\"data row1 col1\" >$4.58</td>\n",
       "                        <td id=\"T_5130d834_7ac4_11ea_b832_086d41dd6a90row1_col2\" class=\"data row1 col2\" >$41.22</td>\n",
       "            </tr>\n",
       "            <tr>\n",
       "                        <th id=\"T_5130d834_7ac4_11ea_b832_086d41dd6a90level0_row2\" class=\"row_heading level0 row2\" >108</th>\n",
       "                        <th id=\"T_5130d834_7ac4_11ea_b832_086d41dd6a90level1_row2\" class=\"row_heading level1 row2\" >Extraction, Quickblade Of Trembling Hands</th>\n",
       "                        <td id=\"T_5130d834_7ac4_11ea_b832_086d41dd6a90row2_col0\" class=\"data row2 col0\" >9</td>\n",
       "                        <td id=\"T_5130d834_7ac4_11ea_b832_086d41dd6a90row2_col1\" class=\"data row2 col1\" >$3.53</td>\n",
       "                        <td id=\"T_5130d834_7ac4_11ea_b832_086d41dd6a90row2_col2\" class=\"data row2 col2\" >$31.77</td>\n",
       "            </tr>\n",
       "            <tr>\n",
       "                        <th id=\"T_5130d834_7ac4_11ea_b832_086d41dd6a90level0_row3\" class=\"row_heading level0 row3\" >82</th>\n",
       "                        <th id=\"T_5130d834_7ac4_11ea_b832_086d41dd6a90level1_row3\" class=\"row_heading level1 row3\" >Nirvana</th>\n",
       "                        <td id=\"T_5130d834_7ac4_11ea_b832_086d41dd6a90row3_col0\" class=\"data row3 col0\" >9</td>\n",
       "                        <td id=\"T_5130d834_7ac4_11ea_b832_086d41dd6a90row3_col1\" class=\"data row3 col1\" >$4.90</td>\n",
       "                        <td id=\"T_5130d834_7ac4_11ea_b832_086d41dd6a90row3_col2\" class=\"data row3 col2\" >$44.10</td>\n",
       "            </tr>\n",
       "            <tr>\n",
       "                        <th id=\"T_5130d834_7ac4_11ea_b832_086d41dd6a90level0_row4\" class=\"row_heading level0 row4\" >19</th>\n",
       "                        <th id=\"T_5130d834_7ac4_11ea_b832_086d41dd6a90level1_row4\" class=\"row_heading level1 row4\" >Pursuit, Cudgel of Necromancy</th>\n",
       "                        <td id=\"T_5130d834_7ac4_11ea_b832_086d41dd6a90row4_col0\" class=\"data row4 col0\" >8</td>\n",
       "                        <td id=\"T_5130d834_7ac4_11ea_b832_086d41dd6a90row4_col1\" class=\"data row4 col1\" >$1.02</td>\n",
       "                        <td id=\"T_5130d834_7ac4_11ea_b832_086d41dd6a90row4_col2\" class=\"data row4 col2\" >$8.16</td>\n",
       "            </tr>\n",
       "    </tbody></table>"
      ],
      "text/plain": [
       "<pandas.io.formats.style.Styler at 0x11b0545d0>"
      ]
     },
     "execution_count": 11,
     "metadata": {},
     "output_type": "execute_result"
    }
   ],
   "source": [
    "popular_items = top_spenders.groupby([\"Item ID\", \"Item Name\"])\n",
    "\n",
    "pur_count = popular_items[\"Purchase ID\"].nunique()\n",
    "total_pur = popular_items[\"Price\"].sum()\n",
    "purchase_value = popular_items[\"Price\"].count()\n",
    "item_price = total_pur/purchase_value\n",
    "\n",
    "popular_items = pd.DataFrame({\"Purchase Count\" : pur_count,\n",
    "                              \"Item Price\": item_price,\n",
    "                              \"Total Purchase Value\" : total_pur})\n",
    "\n",
    "popular_items = popular_items.sort_values(\"Purchase Count\", ascending=False).head()\n",
    "\n",
    "popular_items.style.format({\"Item Price\":\"${:,.2f}\", \"Total Purchase Value\":\"${:,.2f}\"})"
   ]
  },
  {
   "cell_type": "markdown",
   "metadata": {},
   "source": [
    "## Most Profitable Items"
   ]
  },
  {
   "cell_type": "markdown",
   "metadata": {},
   "source": [
    "* Sort the above table by total purchase value in descending order\n",
    "\n",
    "\n",
    "* Optional: give the displayed data cleaner formatting\n",
    "\n",
    "\n",
    "* Display a preview of the data frame\n",
    "\n"
   ]
  },
  {
   "cell_type": "code",
   "execution_count": 12,
   "metadata": {
    "scrolled": true
   },
   "outputs": [
    {
     "data": {
      "text/html": [
       "<style  type=\"text/css\" >\n",
       "</style><table id=\"T_51deb2e2_7ac4_11ea_b832_086d41dd6a90\" ><thead>    <tr>        <th class=\"blank\" ></th>        <th class=\"blank level0\" ></th>        <th class=\"col_heading level0 col0\" >Purchase Count</th>        <th class=\"col_heading level0 col1\" >Item Price</th>        <th class=\"col_heading level0 col2\" >Total Purchase Value</th>    </tr>    <tr>        <th class=\"index_name level0\" >Item ID</th>        <th class=\"index_name level1\" >Item Name</th>        <th class=\"blank\" ></th>        <th class=\"blank\" ></th>        <th class=\"blank\" ></th>    </tr></thead><tbody>\n",
       "                <tr>\n",
       "                        <th id=\"T_51deb2e2_7ac4_11ea_b832_086d41dd6a90level0_row0\" class=\"row_heading level0 row0\" >178</th>\n",
       "                        <th id=\"T_51deb2e2_7ac4_11ea_b832_086d41dd6a90level1_row0\" class=\"row_heading level1 row0\" >Oathbreaker, Last Hope of the Breaking Storm</th>\n",
       "                        <td id=\"T_51deb2e2_7ac4_11ea_b832_086d41dd6a90row0_col0\" class=\"data row0 col0\" >12</td>\n",
       "                        <td id=\"T_51deb2e2_7ac4_11ea_b832_086d41dd6a90row0_col1\" class=\"data row0 col1\" >$4.23</td>\n",
       "                        <td id=\"T_51deb2e2_7ac4_11ea_b832_086d41dd6a90row0_col2\" class=\"data row0 col2\" >$50.76</td>\n",
       "            </tr>\n",
       "            <tr>\n",
       "                        <th id=\"T_51deb2e2_7ac4_11ea_b832_086d41dd6a90level0_row1\" class=\"row_heading level0 row1\" >82</th>\n",
       "                        <th id=\"T_51deb2e2_7ac4_11ea_b832_086d41dd6a90level1_row1\" class=\"row_heading level1 row1\" >Nirvana</th>\n",
       "                        <td id=\"T_51deb2e2_7ac4_11ea_b832_086d41dd6a90row1_col0\" class=\"data row1 col0\" >9</td>\n",
       "                        <td id=\"T_51deb2e2_7ac4_11ea_b832_086d41dd6a90row1_col1\" class=\"data row1 col1\" >$4.90</td>\n",
       "                        <td id=\"T_51deb2e2_7ac4_11ea_b832_086d41dd6a90row1_col2\" class=\"data row1 col2\" >$44.10</td>\n",
       "            </tr>\n",
       "            <tr>\n",
       "                        <th id=\"T_51deb2e2_7ac4_11ea_b832_086d41dd6a90level0_row2\" class=\"row_heading level0 row2\" >145</th>\n",
       "                        <th id=\"T_51deb2e2_7ac4_11ea_b832_086d41dd6a90level1_row2\" class=\"row_heading level1 row2\" >Fiery Glass Crusader</th>\n",
       "                        <td id=\"T_51deb2e2_7ac4_11ea_b832_086d41dd6a90row2_col0\" class=\"data row2 col0\" >9</td>\n",
       "                        <td id=\"T_51deb2e2_7ac4_11ea_b832_086d41dd6a90row2_col1\" class=\"data row2 col1\" >$4.58</td>\n",
       "                        <td id=\"T_51deb2e2_7ac4_11ea_b832_086d41dd6a90row2_col2\" class=\"data row2 col2\" >$41.22</td>\n",
       "            </tr>\n",
       "            <tr>\n",
       "                        <th id=\"T_51deb2e2_7ac4_11ea_b832_086d41dd6a90level0_row3\" class=\"row_heading level0 row3\" >108</th>\n",
       "                        <th id=\"T_51deb2e2_7ac4_11ea_b832_086d41dd6a90level1_row3\" class=\"row_heading level1 row3\" >Extraction, Quickblade Of Trembling Hands</th>\n",
       "                        <td id=\"T_51deb2e2_7ac4_11ea_b832_086d41dd6a90row3_col0\" class=\"data row3 col0\" >9</td>\n",
       "                        <td id=\"T_51deb2e2_7ac4_11ea_b832_086d41dd6a90row3_col1\" class=\"data row3 col1\" >$3.53</td>\n",
       "                        <td id=\"T_51deb2e2_7ac4_11ea_b832_086d41dd6a90row3_col2\" class=\"data row3 col2\" >$31.77</td>\n",
       "            </tr>\n",
       "            <tr>\n",
       "                        <th id=\"T_51deb2e2_7ac4_11ea_b832_086d41dd6a90level0_row4\" class=\"row_heading level0 row4\" >19</th>\n",
       "                        <th id=\"T_51deb2e2_7ac4_11ea_b832_086d41dd6a90level1_row4\" class=\"row_heading level1 row4\" >Pursuit, Cudgel of Necromancy</th>\n",
       "                        <td id=\"T_51deb2e2_7ac4_11ea_b832_086d41dd6a90row4_col0\" class=\"data row4 col0\" >8</td>\n",
       "                        <td id=\"T_51deb2e2_7ac4_11ea_b832_086d41dd6a90row4_col1\" class=\"data row4 col1\" >$1.02</td>\n",
       "                        <td id=\"T_51deb2e2_7ac4_11ea_b832_086d41dd6a90row4_col2\" class=\"data row4 col2\" >$8.16</td>\n",
       "            </tr>\n",
       "    </tbody></table>"
      ],
      "text/plain": [
       "<pandas.io.formats.style.Styler at 0x11bd2b250>"
      ]
     },
     "execution_count": 12,
     "metadata": {},
     "output_type": "execute_result"
    }
   ],
   "source": [
    "#Sort data frame by total purchase value\n",
    "popular_items = popular_items.sort_values(\"Total Purchase Value\", ascending=False).head()\n",
    "popular_items.style.format({\"Item Price\":\"${:,.2f}\", \"Total Purchase Value\":\"${:,.2f}\"})"
   ]
  },
  {
   "cell_type": "code",
   "execution_count": null,
   "metadata": {},
   "outputs": [],
   "source": []
  }
 ],
 "metadata": {
  "anaconda-cloud": {},
  "kernel_info": {
   "name": "python3"
  },
  "kernelspec": {
   "display_name": "Python 3",
   "language": "python",
   "name": "python3"
  },
  "language_info": {
   "codemirror_mode": {
    "name": "ipython",
    "version": 3
   },
   "file_extension": ".py",
   "mimetype": "text/x-python",
   "name": "python",
   "nbconvert_exporter": "python",
   "pygments_lexer": "ipython3",
   "version": "3.7.4"
  },
  "latex_envs": {
   "LaTeX_envs_menu_present": true,
   "autoclose": false,
   "autocomplete": true,
   "bibliofile": "biblio.bib",
   "cite_by": "apalike",
   "current_citInitial": 1,
   "eqLabelWithNumbers": true,
   "eqNumInitial": 1,
   "hotkeys": {
    "equation": "Ctrl-E",
    "itemize": "Ctrl-I"
   },
   "labels_anchors": false,
   "latex_user_defs": false,
   "report_style_numbering": false,
   "user_envs_cfg": false
  },
  "nteract": {
   "version": "0.2.0"
  }
 },
 "nbformat": 4,
 "nbformat_minor": 2
}
